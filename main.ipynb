{
 "cells": [
  {
   "cell_type": "code",
   "execution_count": null,
   "metadata": {
    "collapsed": false,
    "jupyter": {
     "outputs_hidden": false
    },
    "pycharm": {
     "name": "#%%\n"
    }
   },
   "outputs": [],
   "source": [
    "from IPython.core.display import display\n",
    "from ipywidgets import widgets, interact\n",
    "\n",
    "from consts import Strategies, StrategiesHeaders"
   ]
  },
  {
   "cell_type": "code",
   "execution_count": 2,
   "metadata": {
    "collapsed": false,
    "jupyter": {
     "outputs_hidden": false
    },
    "pycharm": {
     "name": "#%%\n"
    }
   },
   "outputs": [
    {
     "data": {
      "application/vnd.jupyter.widget-view+json": {
       "model_id": "3870bdb79eca45ad8719b7061421f621",
       "version_major": 2,
       "version_minor": 0
      },
      "text/plain": [
       "interactive(children=(Dropdown(description='Способ:', options=('[ETH] Закупаем вечно', '[ETH] Закупаем мощност…"
      ]
     },
     "metadata": {},
     "output_type": "display_data"
    },
    {
     "data": {
      "text/plain": [
       "<function __main__.f(strategy_header)>"
      ]
     },
     "execution_count": 2,
     "metadata": {},
     "output_type": "execute_result"
    }
   ],
   "source": [
    "\n",
    "\n",
    "from strategies.once_buyer.MinerEthOnce import MinerEthOnce\n",
    "from strategies.slow_buyer.CardsMinerEth import CardsMinerEth\n",
    "from strategies.slow_buyer.MinerEth import MinerEth\n",
    "from strategies.slow_buyer.SlowEthBuyer import SlowEthBuyer\n",
    "from strategies.slow_buyer.SlowBtcBuyer import SlowBtcBuyer\n",
    "\n",
    "\n",
    "show_data_widget = None\n",
    "def f(strategy_header):\n",
    "    global show_data_widget\n",
    "    if show_data_widget is not None:\n",
    "        show_data_widget.close()\n",
    "    strategy_enum = StrategiesHeaders[strategy_header]\n",
    "    if strategy_enum == Strategies.slow_eth_buyer:\n",
    "        strategy = SlowEthBuyer()\n",
    "        show_data_widget = strategy.get_widget()\n",
    "        display(show_data_widget)\n",
    "    elif strategy_enum == Strategies.miner_eth:\n",
    "        strategy = MinerEth()\n",
    "        show_data_widget = strategy.get_widget()\n",
    "        display(show_data_widget)\n",
    "    elif strategy_enum == Strategies.miner_once_eth:\n",
    "        strategy = MinerEthOnce()\n",
    "        show_data_widget = strategy.get_widget()\n",
    "        display(show_data_widget)\n",
    "    elif strategy_enum == Strategies.miner_cards_eth:\n",
    "        strategy = CardsMinerEth()\n",
    "        show_data_widget = strategy.get_widget()\n",
    "        display(show_data_widget)\n",
    "    elif strategy_enum == Strategies.slow_btc_buyer:\n",
    "        strategy = SlowBtcBuyer()\n",
    "        show_data_widget = strategy.get_widget()\n",
    "        display(show_data_widget)\n",
    "    else:\n",
    "        display(\"Unknown strategy\")\n",
    "\n",
    "w = widgets.Dropdown(\n",
    "            options = StrategiesHeaders.keys(),\n",
    "            value=list(StrategiesHeaders.keys())[0],\n",
    "            description='Способ:',\n",
    "            disabled=False)\n",
    "\n",
    "\n",
    "interact(f, strategy_header=w)\n",
    "\n"
   ]
  },
  {
   "cell_type": "code",
   "execution_count": null,
   "metadata": {},
   "outputs": [],
   "source": []
  }
 ],
 "metadata": {
  "kernelspec": {
   "display_name": "Python 3",
   "language": "python",
   "name": "python3"
  },
  "language_info": {
   "codemirror_mode": {
    "name": "ipython",
    "version": 3
   },
   "file_extension": ".py",
   "mimetype": "text/x-python",
   "name": "python",
   "nbconvert_exporter": "python",
   "pygments_lexer": "ipython3",
   "version": "3.7.7"
  }
 },
 "nbformat": 4,
 "nbformat_minor": 4
}
